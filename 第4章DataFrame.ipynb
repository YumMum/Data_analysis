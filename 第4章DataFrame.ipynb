{
 "cells": [
  {
   "metadata": {
    "ExecuteTime": {
     "end_time": "2025-05-10T08:47:42.766459Z",
     "start_time": "2025-05-10T08:47:42.751395Z"
    }
   },
   "cell_type": "code",
   "source": [
    "import numpy as np\n",
    "import pandas as pd\n",
    "df = pd.DataFrame({\"name\":[\"张三\",\"李四\",\"王五\",\"小明\"],\n",
    "                   \"sex\":[\"female\",\"male\",\"male\",\"female\"],\n",
    "                   \"year\":[2000,2002,2001,2003],\n",
    "                   \"city\":[\"北京\",\"西安\",\"长沙\",\"广州\"]})# ,index=[\"学生1\",\"学生2\",\"学生3\",\"学生4\"]\n",
    "# display(df)\n",
    "df1 = df.set_index(['city','sex'])\n",
    "df1 = df.reset_index()  \n",
    "print(df1)\n",
    "# print(df.iloc[:3,2])\n",
    "# print(df.loc[:'学生3',['name','year']])\n",
    "# display(df.query('year>2002'))\n",
    "df = df._append({'name':'刘六','sex':\"female\",\"year\":2005,'city':'上海'},ignore_index=True)\n",
    "# display(df)\n",
    "df.insert(1,'no',[\"001\",\"002\",\"003\",\"004\",\"005\"])\n",
    "df['score'] = np.nan\n",
    "df = df.set_index('city')\n",
    "# df.drop('广州',inplace=True)\n",
    "# df.drop('year',axis=1,inplace=True)\n",
    "df.rename(columns={'no':\"number\"},inplace=True)\n",
    "# df['score']=df['score'].bfill()\n",
    "df['score']=df['score'].fillna(2)\n",
    "display(df)"
   ],
   "id": "7df3188c01d446d9",
   "outputs": [
    {
     "name": "stdout",
     "output_type": "stream",
     "text": [
      "   index name     sex  year city\n",
      "0      0   张三  female  2000   北京\n",
      "1      1   李四    male  2002   西安\n",
      "2      2   王五    male  2001   长沙\n",
      "3      3   小明  female  2003   广州\n"
     ]
    },
    {
     "data": {
      "text/plain": [
       "     name number     sex  year  score\n",
       "city                                 \n",
       "北京     张三    001  female  2000    2.0\n",
       "西安     李四    002    male  2002    2.0\n",
       "长沙     王五    003    male  2001    2.0\n",
       "广州     小明    004  female  2003    2.0\n",
       "上海     刘六    005  female  2005    2.0"
      ],
      "text/html": [
       "<div>\n",
       "<style scoped>\n",
       "    .dataframe tbody tr th:only-of-type {\n",
       "        vertical-align: middle;\n",
       "    }\n",
       "\n",
       "    .dataframe tbody tr th {\n",
       "        vertical-align: top;\n",
       "    }\n",
       "\n",
       "    .dataframe thead th {\n",
       "        text-align: right;\n",
       "    }\n",
       "</style>\n",
       "<table border=\"1\" class=\"dataframe\">\n",
       "  <thead>\n",
       "    <tr style=\"text-align: right;\">\n",
       "      <th></th>\n",
       "      <th>name</th>\n",
       "      <th>number</th>\n",
       "      <th>sex</th>\n",
       "      <th>year</th>\n",
       "      <th>score</th>\n",
       "    </tr>\n",
       "    <tr>\n",
       "      <th>city</th>\n",
       "      <th></th>\n",
       "      <th></th>\n",
       "      <th></th>\n",
       "      <th></th>\n",
       "      <th></th>\n",
       "    </tr>\n",
       "  </thead>\n",
       "  <tbody>\n",
       "    <tr>\n",
       "      <th>北京</th>\n",
       "      <td>张三</td>\n",
       "      <td>001</td>\n",
       "      <td>female</td>\n",
       "      <td>2000</td>\n",
       "      <td>2.0</td>\n",
       "    </tr>\n",
       "    <tr>\n",
       "      <th>西安</th>\n",
       "      <td>李四</td>\n",
       "      <td>002</td>\n",
       "      <td>male</td>\n",
       "      <td>2002</td>\n",
       "      <td>2.0</td>\n",
       "    </tr>\n",
       "    <tr>\n",
       "      <th>长沙</th>\n",
       "      <td>王五</td>\n",
       "      <td>003</td>\n",
       "      <td>male</td>\n",
       "      <td>2001</td>\n",
       "      <td>2.0</td>\n",
       "    </tr>\n",
       "    <tr>\n",
       "      <th>广州</th>\n",
       "      <td>小明</td>\n",
       "      <td>004</td>\n",
       "      <td>female</td>\n",
       "      <td>2003</td>\n",
       "      <td>2.0</td>\n",
       "    </tr>\n",
       "    <tr>\n",
       "      <th>上海</th>\n",
       "      <td>刘六</td>\n",
       "      <td>005</td>\n",
       "      <td>female</td>\n",
       "      <td>2005</td>\n",
       "      <td>2.0</td>\n",
       "    </tr>\n",
       "  </tbody>\n",
       "</table>\n",
       "</div>"
      ]
     },
     "metadata": {},
     "output_type": "display_data"
    }
   ],
   "execution_count": 11
  },
  {
   "metadata": {},
   "cell_type": "code",
   "outputs": [],
   "execution_count": null,
   "source": [
    "def f(x:str):\n",
    "    return x.split('ale')[0]\n",
    "df['sex']=df['sex'].map(f)\n",
    "display(df)"
   ],
   "id": "6c1c9a5b4fb573b0"
  },
  {
   "metadata": {},
   "cell_type": "code",
   "source": [
    "df1 = pd.DataFrame(np.random.random((3,3)),columns=list('abc'),index=['app',\"win\",\"mac\"])\n",
    "display(df1)\n",
    "print(df1.apply(np.mean,axis=0))\n",
    "print(df1.apply(np.mean,axis=1))\n",
    "print(df1.applymap(lambda x: '%.3f'%x))"
   ],
   "id": "9b641e57dca61db5",
   "outputs": [],
   "execution_count": null
  },
  {
   "metadata": {
    "ExecuteTime": {
     "end_time": "2025-05-09T11:10:37.115404Z",
     "start_time": "2025-05-09T11:10:37.115404Z"
    }
   },
   "cell_type": "code",
   "source": [
    "ser = pd.Series([1,-2,4,-4],index=['c','b','a','d'])\n",
    "print(ser)\n",
    "print(ser.sort_index(ascending=True))"
   ],
   "id": "d1eb530f4e38e22a",
   "outputs": [],
   "execution_count": null
  },
  {
   "metadata": {},
   "cell_type": "code",
   "source": [
    "df = pd.DataFrame({'key1':['a','a','b','b','a'],\n",
    "                   'key2':['yes','no','yes','yes','no'],\n",
    "                   'data1':np.random.randn(5),\n",
    "                   'data2':np.random.randn(5),})\n",
    "grouped = df['data1'].groupby(by=df['key1'])\n",
    "display(df)\n",
    "print(grouped.size())\n",
    "print(grouped.mean())\n"
   ],
   "id": "5de91725c26c5f1",
   "outputs": [],
   "execution_count": null
  },
  {
   "metadata": {
    "ExecuteTime": {
     "end_time": "2025-05-09T11:10:37.116404Z",
     "start_time": "2025-05-09T11:10:37.116404Z"
    }
   },
   "cell_type": "code",
   "source": [
    "df = pd.DataFrame({\n",
    "                   'key2':['yes','no','yes','yes','no'],\n",
    "                   'data1':np.random.randn(5),\n",
    "                   'data2':np.random.randn(5),})\n",
    "groupk1 = df.groupby('key2').mean()\n",
    "groupk2 = df.groupby('key2').count()\n",
    "print(groupk1)\n",
    "print(groupk2)"
   ],
   "id": "30932ac1d85480ec",
   "outputs": [],
   "execution_count": null
  },
  {
   "metadata": {},
   "cell_type": "code",
   "source": [
    "def judge(x):\n",
    "    if x >= 0:\n",
    "        return 'a'\n",
    "    else:\n",
    "        return 'b'\n",
    "\n",
    "df = pd.DataFrame(np.random.randn(4,4))\n",
    "print(df)\n",
    "print(df[3].groupby(\n",
    "        df[3].map(judge)).sum()\n",
    "    )"
   ],
   "id": "90caf47baf3151dc",
   "outputs": [],
   "execution_count": null
  }
 ],
 "metadata": {
  "kernelspec": {
   "display_name": "Python 3",
   "language": "python",
   "name": "python3"
  },
  "language_info": {
   "codemirror_mode": {
    "name": "ipython",
    "version": 2
   },
   "file_extension": ".py",
   "mimetype": "text/x-python",
   "name": "python",
   "nbconvert_exporter": "python",
   "pygments_lexer": "ipython2",
   "version": "2.7.6"
  }
 },
 "nbformat": 4,
 "nbformat_minor": 5
}
