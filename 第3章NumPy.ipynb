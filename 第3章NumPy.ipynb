{
 "cells": [
  {
   "metadata": {
    "ExecuteTime": {
     "end_time": "2025-05-09T15:29:53.718757Z",
     "start_time": "2025-05-09T15:29:53.669766Z"
    }
   },
   "cell_type": "code",
   "source": [
    "import numpy as np\n",
    "print(\"w1:\",np.array([1,2,3])) #这是数组，中间没有逗号\n",
    "print(\"w2:\",np.array((4,5,6)))\n",
    "print(\"w3:\\n\",np.array([[1,2,3],[4,5,6]]))\n",
    "print(\"w4:\\n\",np.array([[1,2,3],[4,5,6]],dtype=np.float64))\n",
    "print(\"w5:\\n\",np.arange(10,dtype=np.float64).reshape(2,5))\n",
    "print(\"w6:\\n\",np.arange(0,10,1.0).reshape(2,5))\n",
    "print(\"w7:\\n\",np.arange(0,10,1).reshape(2,5))"
   ],
   "id": "c8df3afea93850aa",
   "outputs": [
    {
     "name": "stdout",
     "output_type": "stream",
     "text": [
      "w1: [1 2 3]\n",
      "w2: [4 5 6]\n",
      "w3:\n",
      " [[1 2 3]\n",
      " [4 5 6]]\n",
      "w4:\n",
      " [[1. 2. 3.]\n",
      " [4. 5. 6.]]\n",
      "w5:\n",
      " [[0. 1. 2. 3. 4.]\n",
      " [5. 6. 7. 8. 9.]]\n",
      "w6:\n",
      " [[0. 1. 2. 3. 4.]\n",
      " [5. 6. 7. 8. 9.]]\n",
      "w7:\n",
      " [[0 1 2 3 4]\n",
      " [5 6 7 8 9]]\n"
     ]
    }
   ],
   "execution_count": 1
  },
  {
   "metadata": {
    "ExecuteTime": {
     "end_time": "2025-05-09T15:29:53.722722Z",
     "start_time": "2025-05-09T15:29:53.718757Z"
    }
   },
   "cell_type": "code",
   "source": [
    "print(\"w8:\\n\",np.linspace(0,10,5))\n",
    "print(\"w9:\\n\",np.logspace(0,1,5))\n",
    "print(\"w10:\\n\",np.zeros(5))\n",
    "print(\"w11:\\n\",np.ones(5))\n",
    "print(\"w12:\\n\",np.ones([5,5]))\n",
    "print(\"w13:\\n\",np.diag(np.ones(5))) #对角线\n",
    "print(\"w14:\\n\",np.eye(5))"
   ],
   "id": "3cbdc527fd5b3bdb",
   "outputs": [
    {
     "name": "stdout",
     "output_type": "stream",
     "text": [
      "w8:\n",
      " [ 0.   2.5  5.   7.5 10. ]\n",
      "w9:\n",
      " [ 1.          1.77827941  3.16227766  5.62341325 10.        ]\n",
      "w10:\n",
      " [0. 0. 0. 0. 0.]\n",
      "w11:\n",
      " [1. 1. 1. 1. 1.]\n",
      "w12:\n",
      " [[1. 1. 1. 1. 1.]\n",
      " [1. 1. 1. 1. 1.]\n",
      " [1. 1. 1. 1. 1.]\n",
      " [1. 1. 1. 1. 1.]\n",
      " [1. 1. 1. 1. 1.]]\n",
      "w13:\n",
      " [[1. 0. 0. 0. 0.]\n",
      " [0. 1. 0. 0. 0.]\n",
      " [0. 0. 1. 0. 0.]\n",
      " [0. 0. 0. 1. 0.]\n",
      " [0. 0. 0. 0. 1.]]\n",
      "w14:\n",
      " [[1. 0. 0. 0. 0.]\n",
      " [0. 1. 0. 0. 0.]\n",
      " [0. 0. 1. 0. 0.]\n",
      " [0. 0. 0. 1. 0.]\n",
      " [0. 0. 0. 0. 1.]]\n"
     ]
    }
   ],
   "execution_count": 2
  },
  {
   "metadata": {
    "ExecuteTime": {
     "end_time": "2025-05-09T15:29:53.731234Z",
     "start_time": "2025-05-09T15:29:53.722722Z"
    }
   },
   "cell_type": "code",
   "source": [
    "w_array = np.array([[1,2,3],[4,5,6],[7,8,9]])\n",
    "print(\"秩：\",w_array.ndim)\n",
    "print(\"形状：\",w_array.shape)\n",
    "print(\"元素个数:\",w_array.size)\n",
    "print(w_array.dtype)\n",
    "print(w_array.itemsize)"
   ],
   "id": "2873fa0d6ff657e5",
   "outputs": [
    {
     "name": "stdout",
     "output_type": "stream",
     "text": [
      "秩： 2\n",
      "形状： (3, 3)\n",
      "元素个数: 9\n",
      "int32\n",
      "4\n"
     ]
    }
   ],
   "execution_count": 3
  },
  {
   "metadata": {
    "ExecuteTime": {
     "end_time": "2025-05-09T15:29:53.737665Z",
     "start_time": "2025-05-09T15:29:53.731234Z"
    }
   },
   "cell_type": "code",
   "source": [
    "w_array = np.array([[1,2,3],[4,5,6]])\n",
    "print(w_array)\n",
    "w_array.shape=(3,2)\n",
    "print(w_array)"
   ],
   "id": "3ee43cba87ab67be",
   "outputs": [
    {
     "name": "stdout",
     "output_type": "stream",
     "text": [
      "[[1 2 3]\n",
      " [4 5 6]]\n",
      "[[1 2]\n",
      " [3 4]\n",
      " [5 6]]\n"
     ]
    }
   ],
   "execution_count": 4
  },
  {
   "metadata": {
    "ExecuteTime": {
     "end_time": "2025-05-09T15:29:53.744616Z",
     "start_time": "2025-05-09T15:29:53.738669Z"
    }
   },
   "cell_type": "code",
   "source": [
    "print(np.random.randint(100,200,5))\n",
    "print(np.random.rand(3,2))\n",
    "print(np.random.rand(5))"
   ],
   "id": "a89a964aecc8a3c0",
   "outputs": [
    {
     "name": "stdout",
     "output_type": "stream",
     "text": [
      "[101 174 184 184 107]\n",
      "[[0.54002012 0.99405452]\n",
      " [0.98163395 0.41616337]\n",
      " [0.63266561 0.24563501]]\n",
      "[0.16567729 0.28549842 0.26206536 0.1703999  0.66304515]\n"
     ]
    }
   ],
   "execution_count": 5
  },
  {
   "metadata": {
    "ExecuteTime": {
     "end_time": "2025-05-09T15:29:53.752114Z",
     "start_time": "2025-05-09T15:29:53.744616Z"
    }
   },
   "cell_type": "code",
   "source": [
    "w_array = np.array([[1,2,3],[4,5,6]])\n",
    "print(w_array)\n",
    "print(w_array.reshape(3,2))\n",
    "w_array = np.arange(8)\n",
    "print(w_array.reshape(4,2))"
   ],
   "id": "b4e2f1bec21485c9",
   "outputs": [
    {
     "name": "stdout",
     "output_type": "stream",
     "text": [
      "[[1 2 3]\n",
      " [4 5 6]]\n",
      "[[1 2]\n",
      " [3 4]\n",
      " [5 6]]\n",
      "[[0 1]\n",
      " [2 3]\n",
      " [4 5]\n",
      " [6 7]]\n"
     ]
    }
   ],
   "execution_count": 6
  },
  {
   "metadata": {
    "ExecuteTime": {
     "end_time": "2025-05-09T15:29:53.759422Z",
     "start_time": "2025-05-09T15:29:53.752114Z"
    }
   },
   "cell_type": "code",
   "source": [
    "arr1 = np.array([1,2,3,4,5,6,7,8,9]).reshape(3,3)\n",
    "arr2 = np.arange(9).reshape(3,3)\n",
    "print(arr1)\n",
    "print(arr2)\n",
    "print(arr1+arr2)\n",
    "print(arr1*arr2)\n",
    "print(2*arr2)\n",
    "print(np.hstack((arr1,arr2))) #横向拼接\n",
    "print(np.vstack((arr1,arr2)))\n",
    "print(np.concatenate((arr1,arr2),axis=1))"
   ],
   "id": "5bba5403e965d198",
   "outputs": [
    {
     "name": "stdout",
     "output_type": "stream",
     "text": [
      "[[1 2 3]\n",
      " [4 5 6]\n",
      " [7 8 9]]\n",
      "[[0 1 2]\n",
      " [3 4 5]\n",
      " [6 7 8]]\n",
      "[[ 1  3  5]\n",
      " [ 7  9 11]\n",
      " [13 15 17]]\n",
      "[[ 0  2  6]\n",
      " [12 20 30]\n",
      " [42 56 72]]\n",
      "[[ 0  2  4]\n",
      " [ 6  8 10]\n",
      " [12 14 16]]\n",
      "[[1 2 3 0 1 2]\n",
      " [4 5 6 3 4 5]\n",
      " [7 8 9 6 7 8]]\n",
      "[[1 2 3]\n",
      " [4 5 6]\n",
      " [7 8 9]\n",
      " [0 1 2]\n",
      " [3 4 5]\n",
      " [6 7 8]]\n",
      "[[1 2 3 0 1 2]\n",
      " [4 5 6 3 4 5]\n",
      " [7 8 9 6 7 8]]\n"
     ]
    }
   ],
   "execution_count": 7
  },
  {
   "metadata": {
    "ExecuteTime": {
     "end_time": "2025-05-09T15:29:53.765521Z",
     "start_time": "2025-05-09T15:29:53.759422Z"
    }
   },
   "cell_type": "code",
   "source": [
    "arr = np.arange(36).reshape(6, 6)\n",
    "print(arr)\n",
    "# print(np.split(arr,3,axis=0))\n",
    "arr = np.arange(6).reshape(3, 2)\n",
    "print(arr)\n",
    "print(arr.T)"
   ],
   "id": "31375dceb9b9e7cc",
   "outputs": [
    {
     "name": "stdout",
     "output_type": "stream",
     "text": [
      "[[ 0  1  2  3  4  5]\n",
      " [ 6  7  8  9 10 11]\n",
      " [12 13 14 15 16 17]\n",
      " [18 19 20 21 22 23]\n",
      " [24 25 26 27 28 29]\n",
      " [30 31 32 33 34 35]]\n",
      "[[0 1]\n",
      " [2 3]\n",
      " [4 5]]\n",
      "[[0 2 4]\n",
      " [1 3 5]]\n"
     ]
    }
   ],
   "execution_count": 8
  },
  {
   "metadata": {
    "ExecuteTime": {
     "end_time": "2025-05-09T15:29:53.772668Z",
     "start_time": "2025-05-09T15:29:53.765521Z"
    }
   },
   "cell_type": "code",
   "source": [
    "arr = np.arange(10)\n",
    "print(arr)\n",
    "print(arr[-2::-2])\n",
    "arr = arr.reshape(2,5)\n",
    "print(arr[(0,1),(1,3)])"
   ],
   "id": "31bc4e525e9211fa",
   "outputs": [
    {
     "name": "stdout",
     "output_type": "stream",
     "text": [
      "[0 1 2 3 4 5 6 7 8 9]\n",
      "[8 6 4 2 0]\n",
      "[1 8]\n"
     ]
    }
   ],
   "execution_count": 9
  },
  {
   "metadata": {
    "ExecuteTime": {
     "end_time": "2025-05-09T15:29:53.779649Z",
     "start_time": "2025-05-09T15:29:53.772668Z"
    }
   },
   "cell_type": "code",
   "source": [
    "arr = np.where([[True,False],[True,True]],\n",
    "               [[1,2],[2,3]],\n",
    "               [[5,6],[7,8]])\n",
    "np.save('arr.npy',arr)\n",
    "print(np.load('arr.npy'))"
   ],
   "id": "39d299edb9114f51",
   "outputs": [
    {
     "name": "stdout",
     "output_type": "stream",
     "text": [
      "[[1 6]\n",
      " [2 3]]\n"
     ]
    }
   ],
   "execution_count": 10
  }
 ],
 "metadata": {
  "kernelspec": {
   "display_name": "Python 3",
   "language": "python",
   "name": "python3"
  },
  "language_info": {
   "codemirror_mode": {
    "name": "ipython",
    "version": 2
   },
   "file_extension": ".py",
   "mimetype": "text/x-python",
   "name": "python",
   "nbconvert_exporter": "python",
   "pygments_lexer": "ipython2",
   "version": "2.7.6"
  }
 },
 "nbformat": 4,
 "nbformat_minor": 5
}
