{
 "cells": [
  {
   "cell_type": "code",
   "id": "initial_id",
   "metadata": {
    "collapsed": true,
    "ExecuteTime": {
     "end_time": "2025-05-09T07:13:09.438639Z",
     "start_time": "2025-05-09T07:13:08.988243Z"
    }
   },
   "source": [
    "import numpy as np\n",
    "import pandas as pd\n",
    "df = pd.DataFrame({\"name\":[\"张三\",\"李四\",\"王五\",\"小明\"],\n",
    "                   \"sex\":[\"female\",\"male\",\"male\",\"female\"],\n",
    "                   \"year\":[2000,2002,2001,2003],\n",
    "                   \"city\":[\"北京\",\"西安\",\"长沙\",\"广州\"]})# ,index=[\"学生1\",\"学生2\",\"学生3\",\"学生4\"]\n",
    "# display(df)\n",
    "# df1 = df.set_index('city')\n",
    "# print(df.iloc[:3,2])\n",
    "# print(df.loc[:'学生3',['name','year']])\n",
    "# display(df.query('year>2002'))\n",
    "df = df._append({'name':'刘六','sex':\"female\",\"year\":2005,'city':'上海'},ignore_index=True)\n",
    "# display(df)\n",
    "df.insert(1,'no',[\"001\",\"002\",\"003\",\"004\",\"005\"])\n",
    "df['score'] = np.nan\n",
    "df = df.set_index('city')\n",
    "# df.drop('广州',inplace=True)\n",
    "# df.drop('year',axis=1,inplace=True)\n",
    "df.rename(columns={'no':\"number\"},inplace=True)\n",
    "# df['score']=df['score'].bfill()\n",
    "df['score']=df['score'].fillna(2)\n",
    "\n",
    "display(df)"
   ],
   "outputs": [
    {
     "data": {
      "text/plain": [
       "     name number     sex  year  score\n",
       "city                                 \n",
       "北京     张三    001  female  2000    2.0\n",
       "西安     李四    002    male  2002    2.0\n",
       "长沙     王五    003    male  2001    2.0\n",
       "广州     小明    004  female  2003    2.0\n",
       "上海     刘六    005  female  2005    2.0"
      ],
      "text/html": [
       "<div>\n",
       "<style scoped>\n",
       "    .dataframe tbody tr th:only-of-type {\n",
       "        vertical-align: middle;\n",
       "    }\n",
       "\n",
       "    .dataframe tbody tr th {\n",
       "        vertical-align: top;\n",
       "    }\n",
       "\n",
       "    .dataframe thead th {\n",
       "        text-align: right;\n",
       "    }\n",
       "</style>\n",
       "<table border=\"1\" class=\"dataframe\">\n",
       "  <thead>\n",
       "    <tr style=\"text-align: right;\">\n",
       "      <th></th>\n",
       "      <th>name</th>\n",
       "      <th>number</th>\n",
       "      <th>sex</th>\n",
       "      <th>year</th>\n",
       "      <th>score</th>\n",
       "    </tr>\n",
       "    <tr>\n",
       "      <th>city</th>\n",
       "      <th></th>\n",
       "      <th></th>\n",
       "      <th></th>\n",
       "      <th></th>\n",
       "      <th></th>\n",
       "    </tr>\n",
       "  </thead>\n",
       "  <tbody>\n",
       "    <tr>\n",
       "      <th>北京</th>\n",
       "      <td>张三</td>\n",
       "      <td>001</td>\n",
       "      <td>female</td>\n",
       "      <td>2000</td>\n",
       "      <td>2.0</td>\n",
       "    </tr>\n",
       "    <tr>\n",
       "      <th>西安</th>\n",
       "      <td>李四</td>\n",
       "      <td>002</td>\n",
       "      <td>male</td>\n",
       "      <td>2002</td>\n",
       "      <td>2.0</td>\n",
       "    </tr>\n",
       "    <tr>\n",
       "      <th>长沙</th>\n",
       "      <td>王五</td>\n",
       "      <td>003</td>\n",
       "      <td>male</td>\n",
       "      <td>2001</td>\n",
       "      <td>2.0</td>\n",
       "    </tr>\n",
       "    <tr>\n",
       "      <th>广州</th>\n",
       "      <td>小明</td>\n",
       "      <td>004</td>\n",
       "      <td>female</td>\n",
       "      <td>2003</td>\n",
       "      <td>2.0</td>\n",
       "    </tr>\n",
       "    <tr>\n",
       "      <th>上海</th>\n",
       "      <td>刘六</td>\n",
       "      <td>005</td>\n",
       "      <td>female</td>\n",
       "      <td>2005</td>\n",
       "      <td>2.0</td>\n",
       "    </tr>\n",
       "  </tbody>\n",
       "</table>\n",
       "</div>"
      ]
     },
     "metadata": {},
     "output_type": "display_data"
    }
   ],
   "execution_count": 1
  },
  {
   "metadata": {
    "ExecuteTime": {
     "end_time": "2025-05-09T07:13:09.446274Z",
     "start_time": "2025-05-09T07:13:09.440190Z"
    }
   },
   "cell_type": "code",
   "source": [
    "def f(x:str):\n",
    "    return x.split('ale')[0]\n",
    "df['sex']=df['sex'].map(f)\n",
    "display(df)"
   ],
   "id": "41db8b0e33b35173",
   "outputs": [
    {
     "data": {
      "text/plain": [
       "     name number  sex  year  score\n",
       "city                              \n",
       "北京     张三    001  fem  2000    2.0\n",
       "西安     李四    002    m  2002    2.0\n",
       "长沙     王五    003    m  2001    2.0\n",
       "广州     小明    004  fem  2003    2.0\n",
       "上海     刘六    005  fem  2005    2.0"
      ],
      "text/html": [
       "<div>\n",
       "<style scoped>\n",
       "    .dataframe tbody tr th:only-of-type {\n",
       "        vertical-align: middle;\n",
       "    }\n",
       "\n",
       "    .dataframe tbody tr th {\n",
       "        vertical-align: top;\n",
       "    }\n",
       "\n",
       "    .dataframe thead th {\n",
       "        text-align: right;\n",
       "    }\n",
       "</style>\n",
       "<table border=\"1\" class=\"dataframe\">\n",
       "  <thead>\n",
       "    <tr style=\"text-align: right;\">\n",
       "      <th></th>\n",
       "      <th>name</th>\n",
       "      <th>number</th>\n",
       "      <th>sex</th>\n",
       "      <th>year</th>\n",
       "      <th>score</th>\n",
       "    </tr>\n",
       "    <tr>\n",
       "      <th>city</th>\n",
       "      <th></th>\n",
       "      <th></th>\n",
       "      <th></th>\n",
       "      <th></th>\n",
       "      <th></th>\n",
       "    </tr>\n",
       "  </thead>\n",
       "  <tbody>\n",
       "    <tr>\n",
       "      <th>北京</th>\n",
       "      <td>张三</td>\n",
       "      <td>001</td>\n",
       "      <td>fem</td>\n",
       "      <td>2000</td>\n",
       "      <td>2.0</td>\n",
       "    </tr>\n",
       "    <tr>\n",
       "      <th>西安</th>\n",
       "      <td>李四</td>\n",
       "      <td>002</td>\n",
       "      <td>m</td>\n",
       "      <td>2002</td>\n",
       "      <td>2.0</td>\n",
       "    </tr>\n",
       "    <tr>\n",
       "      <th>长沙</th>\n",
       "      <td>王五</td>\n",
       "      <td>003</td>\n",
       "      <td>m</td>\n",
       "      <td>2001</td>\n",
       "      <td>2.0</td>\n",
       "    </tr>\n",
       "    <tr>\n",
       "      <th>广州</th>\n",
       "      <td>小明</td>\n",
       "      <td>004</td>\n",
       "      <td>fem</td>\n",
       "      <td>2003</td>\n",
       "      <td>2.0</td>\n",
       "    </tr>\n",
       "    <tr>\n",
       "      <th>上海</th>\n",
       "      <td>刘六</td>\n",
       "      <td>005</td>\n",
       "      <td>fem</td>\n",
       "      <td>2005</td>\n",
       "      <td>2.0</td>\n",
       "    </tr>\n",
       "  </tbody>\n",
       "</table>\n",
       "</div>"
      ]
     },
     "metadata": {},
     "output_type": "display_data"
    }
   ],
   "execution_count": 2
  },
  {
   "metadata": {
    "ExecuteTime": {
     "end_time": "2025-05-09T07:13:09.455595Z",
     "start_time": "2025-05-09T07:13:09.446274Z"
    }
   },
   "cell_type": "code",
   "source": [
    "df1 = pd.DataFrame(np.random.random((3,3)),columns=list('abc'),index=['app',\"win\",\"mac\"])\n",
    "display(df1)\n",
    "print(df1.apply(np.mean,axis=0))\n",
    "print(df1.apply(np.mean,axis=1))\n",
    "print(df1.applymap(lambda x: '%.3f'%x))"
   ],
   "id": "9b641e57dca61db5",
   "outputs": [
    {
     "data": {
      "text/plain": [
       "            a         b         c\n",
       "app  0.070362  0.548698  0.541193\n",
       "win  0.336341  0.775388  0.855961\n",
       "mac  0.605526  0.851144  0.280705"
      ],
      "text/html": [
       "<div>\n",
       "<style scoped>\n",
       "    .dataframe tbody tr th:only-of-type {\n",
       "        vertical-align: middle;\n",
       "    }\n",
       "\n",
       "    .dataframe tbody tr th {\n",
       "        vertical-align: top;\n",
       "    }\n",
       "\n",
       "    .dataframe thead th {\n",
       "        text-align: right;\n",
       "    }\n",
       "</style>\n",
       "<table border=\"1\" class=\"dataframe\">\n",
       "  <thead>\n",
       "    <tr style=\"text-align: right;\">\n",
       "      <th></th>\n",
       "      <th>a</th>\n",
       "      <th>b</th>\n",
       "      <th>c</th>\n",
       "    </tr>\n",
       "  </thead>\n",
       "  <tbody>\n",
       "    <tr>\n",
       "      <th>app</th>\n",
       "      <td>0.070362</td>\n",
       "      <td>0.548698</td>\n",
       "      <td>0.541193</td>\n",
       "    </tr>\n",
       "    <tr>\n",
       "      <th>win</th>\n",
       "      <td>0.336341</td>\n",
       "      <td>0.775388</td>\n",
       "      <td>0.855961</td>\n",
       "    </tr>\n",
       "    <tr>\n",
       "      <th>mac</th>\n",
       "      <td>0.605526</td>\n",
       "      <td>0.851144</td>\n",
       "      <td>0.280705</td>\n",
       "    </tr>\n",
       "  </tbody>\n",
       "</table>\n",
       "</div>"
      ]
     },
     "metadata": {},
     "output_type": "display_data"
    },
    {
     "name": "stdout",
     "output_type": "stream",
     "text": [
      "a    0.337410\n",
      "b    0.725077\n",
      "c    0.559286\n",
      "dtype: float64\n",
      "app    0.386751\n",
      "win    0.655897\n",
      "mac    0.579125\n",
      "dtype: float64\n",
      "         a      b      c\n",
      "app  0.070  0.549  0.541\n",
      "win  0.336  0.775  0.856\n",
      "mac  0.606  0.851  0.281\n"
     ]
    },
    {
     "name": "stderr",
     "output_type": "stream",
     "text": [
      "C:\\Users\\hxc\\AppData\\Local\\Temp\\ipykernel_30216\\4101931154.py:5: FutureWarning: DataFrame.applymap has been deprecated. Use DataFrame.map instead.\n",
      "  print(df1.applymap(lambda x: '%.3f'%x))\n"
     ]
    }
   ],
   "execution_count": 3
  },
  {
   "metadata": {
    "ExecuteTime": {
     "end_time": "2025-05-09T07:13:09.459782Z",
     "start_time": "2025-05-09T07:13:09.455595Z"
    }
   },
   "cell_type": "code",
   "source": [
    "ser = pd.Series([1,-2,4,-4],index=['c','b','a','d'])\n",
    "print(ser)\n",
    "print(ser.sort_index(ascending=True))"
   ],
   "id": "d1eb530f4e38e22a",
   "outputs": [
    {
     "name": "stdout",
     "output_type": "stream",
     "text": [
      "c    1\n",
      "b   -2\n",
      "a    4\n",
      "d   -4\n",
      "dtype: int64\n",
      "a    4\n",
      "b   -2\n",
      "c    1\n",
      "d   -4\n",
      "dtype: int64\n"
     ]
    }
   ],
   "execution_count": 4
  },
  {
   "metadata": {
    "ExecuteTime": {
     "end_time": "2025-05-09T07:45:41.927081Z",
     "start_time": "2025-05-09T07:45:41.920389Z"
    }
   },
   "cell_type": "code",
   "source": [
    "df = pd.DataFrame({'key1':['a','a','b','b','a'],\n",
    "                   'key2':['yes','no','yes','yes','no'],\n",
    "                   'data1':np.random.randn(5),\n",
    "                   'data2':np.random.randn(5),})\n",
    "grouped = df['data1'].groupby(by=df['key1'])\n",
    "display(df)\n",
    "print(grouped.size())\n",
    "print(grouped.mean())\n"
   ],
   "id": "5de91725c26c5f1",
   "outputs": [
    {
     "data": {
      "text/plain": [
       "  key1 key2     data1     data2\n",
       "0    a  yes  1.148960 -1.350737\n",
       "1    a   no -0.817252 -0.636925\n",
       "2    b  yes -0.383801  0.972725\n",
       "3    b  yes  0.907572  0.186235\n",
       "4    a   no  0.059674 -2.094325"
      ],
      "text/html": [
       "<div>\n",
       "<style scoped>\n",
       "    .dataframe tbody tr th:only-of-type {\n",
       "        vertical-align: middle;\n",
       "    }\n",
       "\n",
       "    .dataframe tbody tr th {\n",
       "        vertical-align: top;\n",
       "    }\n",
       "\n",
       "    .dataframe thead th {\n",
       "        text-align: right;\n",
       "    }\n",
       "</style>\n",
       "<table border=\"1\" class=\"dataframe\">\n",
       "  <thead>\n",
       "    <tr style=\"text-align: right;\">\n",
       "      <th></th>\n",
       "      <th>key1</th>\n",
       "      <th>key2</th>\n",
       "      <th>data1</th>\n",
       "      <th>data2</th>\n",
       "    </tr>\n",
       "  </thead>\n",
       "  <tbody>\n",
       "    <tr>\n",
       "      <th>0</th>\n",
       "      <td>a</td>\n",
       "      <td>yes</td>\n",
       "      <td>1.148960</td>\n",
       "      <td>-1.350737</td>\n",
       "    </tr>\n",
       "    <tr>\n",
       "      <th>1</th>\n",
       "      <td>a</td>\n",
       "      <td>no</td>\n",
       "      <td>-0.817252</td>\n",
       "      <td>-0.636925</td>\n",
       "    </tr>\n",
       "    <tr>\n",
       "      <th>2</th>\n",
       "      <td>b</td>\n",
       "      <td>yes</td>\n",
       "      <td>-0.383801</td>\n",
       "      <td>0.972725</td>\n",
       "    </tr>\n",
       "    <tr>\n",
       "      <th>3</th>\n",
       "      <td>b</td>\n",
       "      <td>yes</td>\n",
       "      <td>0.907572</td>\n",
       "      <td>0.186235</td>\n",
       "    </tr>\n",
       "    <tr>\n",
       "      <th>4</th>\n",
       "      <td>a</td>\n",
       "      <td>no</td>\n",
       "      <td>0.059674</td>\n",
       "      <td>-2.094325</td>\n",
       "    </tr>\n",
       "  </tbody>\n",
       "</table>\n",
       "</div>"
      ]
     },
     "metadata": {},
     "output_type": "display_data"
    },
    {
     "name": "stdout",
     "output_type": "stream",
     "text": [
      "key1\n",
      "a    3\n",
      "b    2\n",
      "Name: data1, dtype: int64\n",
      "key1\n",
      "a    0.130461\n",
      "b    0.261886\n",
      "Name: data1, dtype: float64\n"
     ]
    }
   ],
   "execution_count": 39
  },
  {
   "metadata": {
    "ExecuteTime": {
     "end_time": "2025-05-09T07:45:40.392382Z",
     "start_time": "2025-05-09T07:45:40.388570Z"
    }
   },
   "cell_type": "code",
   "source": [
    "df = pd.DataFrame({\n",
    "                   'key2':['yes','no','yes','yes','no'],\n",
    "                   'data1':np.random.randn(5),\n",
    "                   'data2':np.random.randn(5),})\n",
    "groupk1 = df.groupby('key2').mean()\n",
    "print(groupk1)"
   ],
   "id": "30932ac1d85480ec",
   "outputs": [
    {
     "name": "stdout",
     "output_type": "stream",
     "text": [
      "         data1     data2\n",
      "key2                    \n",
      "no    0.588389  0.481332\n",
      "yes  -0.856138 -0.163214\n"
     ]
    }
   ],
   "execution_count": 38
  }
 ],
 "metadata": {
  "kernelspec": {
   "display_name": "Python 3",
   "language": "python",
   "name": "python3"
  },
  "language_info": {
   "codemirror_mode": {
    "name": "ipython",
    "version": 2
   },
   "file_extension": ".py",
   "mimetype": "text/x-python",
   "name": "python",
   "nbconvert_exporter": "python",
   "pygments_lexer": "ipython2",
   "version": "2.7.6"
  }
 },
 "nbformat": 4,
 "nbformat_minor": 5
}
