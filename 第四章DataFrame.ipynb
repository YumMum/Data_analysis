{
 "cells": [
  {
   "cell_type": "code",
   "id": "initial_id",
   "metadata": {
    "collapsed": true,
    "ExecuteTime": {
     "end_time": "2025-05-08T11:07:51.817015Z",
     "start_time": "2025-05-08T11:07:51.435325Z"
    }
   },
   "source": [
    "import numpy as np\n",
    "import pandas as pd\n",
    "df = pd.DataFrame({\"name\":[\"张三\",\"李四\",\"王五\",\"小明\"],\n",
    "                   \"sex\":[\"female\",\"male\",\"male\",\"female\"],\n",
    "                   \"year\":[2000,2002,2001,2003],\n",
    "                   \"city\":[\"北京\",\"西安\",\"长沙\",\"广州\"]})# ,index=[\"学生1\",\"学生2\",\"学生3\",\"学生4\"]\n",
    "# display(df)\n",
    "# df1 = df.set_index('city')\n",
    "# print(df.iloc[:3,2])\n",
    "# print(df.loc[:'学生3',['name','year']])\n",
    "# display(df.query('year>2002'))\n",
    "df = df._append({'name':'刘六','sex':\"female\",\"year\":2005,'city':'上海'},ignore_index=True)\n",
    "# display(df)\n",
    "df.insert(1,'no',[\"001\",\"002\",\"003\",\"004\",\"005\"])\n",
    "df['score'] = np.nan\n",
    "df = df.set_index('city')\n",
    "# df.drop('广州',inplace=True)\n",
    "# df.drop('year',axis=1,inplace=True)\n",
    "df.rename(columns={'no':\"number\"},inplace=True)\n",
    "# df['score']=df['score'].bfill()\n",
    "df['score']=df['score'].fillna(2)\n",
    "print(df)"
   ],
   "outputs": [
    {
     "name": "stdout",
     "output_type": "stream",
     "text": [
      "     name number     sex  year  score\n",
      "city                                 \n",
      "北京     张三    001  female  2000    2.0\n",
      "西安     李四    002    male  2002    2.0\n",
      "长沙     王五    003    male  2001    2.0\n",
      "广州     小明    004  female  2003    2.0\n",
      "上海     刘六    005  female  2005    2.0\n"
     ]
    }
   ],
   "execution_count": 1
  }
 ],
 "metadata": {
  "kernelspec": {
   "display_name": "Python 3",
   "language": "python",
   "name": "python3"
  },
  "language_info": {
   "codemirror_mode": {
    "name": "ipython",
    "version": 2
   },
   "file_extension": ".py",
   "mimetype": "text/x-python",
   "name": "python",
   "nbconvert_exporter": "python",
   "pygments_lexer": "ipython2",
   "version": "2.7.6"
  }
 },
 "nbformat": 4,
 "nbformat_minor": 5
}
