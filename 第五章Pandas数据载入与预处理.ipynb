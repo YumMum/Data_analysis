{
 "cells": [
  {
   "cell_type": "code",
   "id": "initial_id",
   "metadata": {
    "collapsed": true,
    "ExecuteTime": {
     "end_time": "2025-05-10T03:36:40.013421Z",
     "start_time": "2025-05-10T03:36:39.995301Z"
    }
   },
   "source": [
    "import numpy as np\n",
    "import pandas as pd\n",
    "price = pd.DataFrame({'fruit': ['apple','grape', 'orange', 'orange'],'price':[8,7,9,11]})\n",
    "amount = pd.DataFrame({'fruit':['apple','grape','orange','pear'],'amount':[5,11,8,9]})\n",
    "display(price,amount,pd.merge(left=price,right=amount,how='outer',left_on='fruit',right_on='fruit'))# outer：外连接//并集，left：左连接//保留左表的所有行，右表中未匹配的行用 NaN 填充"
   ],
   "outputs": [
    {
     "data": {
      "text/plain": [
       "    fruit  price\n",
       "0   apple      8\n",
       "1   grape      7\n",
       "2  orange      9\n",
       "3  orange     11"
      ],
      "text/html": [
       "<div>\n",
       "<style scoped>\n",
       "    .dataframe tbody tr th:only-of-type {\n",
       "        vertical-align: middle;\n",
       "    }\n",
       "\n",
       "    .dataframe tbody tr th {\n",
       "        vertical-align: top;\n",
       "    }\n",
       "\n",
       "    .dataframe thead th {\n",
       "        text-align: right;\n",
       "    }\n",
       "</style>\n",
       "<table border=\"1\" class=\"dataframe\">\n",
       "  <thead>\n",
       "    <tr style=\"text-align: right;\">\n",
       "      <th></th>\n",
       "      <th>fruit</th>\n",
       "      <th>price</th>\n",
       "    </tr>\n",
       "  </thead>\n",
       "  <tbody>\n",
       "    <tr>\n",
       "      <th>0</th>\n",
       "      <td>apple</td>\n",
       "      <td>8</td>\n",
       "    </tr>\n",
       "    <tr>\n",
       "      <th>1</th>\n",
       "      <td>grape</td>\n",
       "      <td>7</td>\n",
       "    </tr>\n",
       "    <tr>\n",
       "      <th>2</th>\n",
       "      <td>orange</td>\n",
       "      <td>9</td>\n",
       "    </tr>\n",
       "    <tr>\n",
       "      <th>3</th>\n",
       "      <td>orange</td>\n",
       "      <td>11</td>\n",
       "    </tr>\n",
       "  </tbody>\n",
       "</table>\n",
       "</div>"
      ]
     },
     "metadata": {},
     "output_type": "display_data"
    },
    {
     "data": {
      "text/plain": [
       "    fruit  amount\n",
       "0   apple       5\n",
       "1   grape      11\n",
       "2  orange       8\n",
       "3    pear       9"
      ],
      "text/html": [
       "<div>\n",
       "<style scoped>\n",
       "    .dataframe tbody tr th:only-of-type {\n",
       "        vertical-align: middle;\n",
       "    }\n",
       "\n",
       "    .dataframe tbody tr th {\n",
       "        vertical-align: top;\n",
       "    }\n",
       "\n",
       "    .dataframe thead th {\n",
       "        text-align: right;\n",
       "    }\n",
       "</style>\n",
       "<table border=\"1\" class=\"dataframe\">\n",
       "  <thead>\n",
       "    <tr style=\"text-align: right;\">\n",
       "      <th></th>\n",
       "      <th>fruit</th>\n",
       "      <th>amount</th>\n",
       "    </tr>\n",
       "  </thead>\n",
       "  <tbody>\n",
       "    <tr>\n",
       "      <th>0</th>\n",
       "      <td>apple</td>\n",
       "      <td>5</td>\n",
       "    </tr>\n",
       "    <tr>\n",
       "      <th>1</th>\n",
       "      <td>grape</td>\n",
       "      <td>11</td>\n",
       "    </tr>\n",
       "    <tr>\n",
       "      <th>2</th>\n",
       "      <td>orange</td>\n",
       "      <td>8</td>\n",
       "    </tr>\n",
       "    <tr>\n",
       "      <th>3</th>\n",
       "      <td>pear</td>\n",
       "      <td>9</td>\n",
       "    </tr>\n",
       "  </tbody>\n",
       "</table>\n",
       "</div>"
      ]
     },
     "metadata": {},
     "output_type": "display_data"
    },
    {
     "data": {
      "text/plain": [
       "    fruit  price  amount\n",
       "0   apple    8.0       5\n",
       "1   grape    7.0      11\n",
       "2  orange    9.0       8\n",
       "3  orange   11.0       8\n",
       "4    pear    NaN       9"
      ],
      "text/html": [
       "<div>\n",
       "<style scoped>\n",
       "    .dataframe tbody tr th:only-of-type {\n",
       "        vertical-align: middle;\n",
       "    }\n",
       "\n",
       "    .dataframe tbody tr th {\n",
       "        vertical-align: top;\n",
       "    }\n",
       "\n",
       "    .dataframe thead th {\n",
       "        text-align: right;\n",
       "    }\n",
       "</style>\n",
       "<table border=\"1\" class=\"dataframe\">\n",
       "  <thead>\n",
       "    <tr style=\"text-align: right;\">\n",
       "      <th></th>\n",
       "      <th>fruit</th>\n",
       "      <th>price</th>\n",
       "      <th>amount</th>\n",
       "    </tr>\n",
       "  </thead>\n",
       "  <tbody>\n",
       "    <tr>\n",
       "      <th>0</th>\n",
       "      <td>apple</td>\n",
       "      <td>8.0</td>\n",
       "      <td>5</td>\n",
       "    </tr>\n",
       "    <tr>\n",
       "      <th>1</th>\n",
       "      <td>grape</td>\n",
       "      <td>7.0</td>\n",
       "      <td>11</td>\n",
       "    </tr>\n",
       "    <tr>\n",
       "      <th>2</th>\n",
       "      <td>orange</td>\n",
       "      <td>9.0</td>\n",
       "      <td>8</td>\n",
       "    </tr>\n",
       "    <tr>\n",
       "      <th>3</th>\n",
       "      <td>orange</td>\n",
       "      <td>11.0</td>\n",
       "      <td>8</td>\n",
       "    </tr>\n",
       "    <tr>\n",
       "      <th>4</th>\n",
       "      <td>pear</td>\n",
       "      <td>NaN</td>\n",
       "      <td>9</td>\n",
       "    </tr>\n",
       "  </tbody>\n",
       "</table>\n",
       "</div>"
      ]
     },
     "metadata": {},
     "output_type": "display_data"
    }
   ],
   "execution_count": 4
  },
  {
   "metadata": {
    "ExecuteTime": {
     "end_time": "2025-05-10T03:38:51.645537Z",
     "start_time": "2025-05-10T03:38:51.638457Z"
    }
   },
   "cell_type": "code",
   "source": [
    "# isnull检测缺失值\n",
    "string_data = pd.Series(['aardvark','artichoke',np.nan,'avocado',np.nan])\n",
    "print(string_data)\n",
    "print(string_data.isnull())\n",
    "print(f\"缺失值有：{string_data.isnull().sum()}个\")"
   ],
   "id": "e57c37ccce078326",
   "outputs": [
    {
     "name": "stdout",
     "output_type": "stream",
     "text": [
      "0     aardvark\n",
      "1    artichoke\n",
      "2          NaN\n",
      "3      avocado\n",
      "4          NaN\n",
      "dtype: object\n",
      "0    False\n",
      "1    False\n",
      "2     True\n",
      "3    False\n",
      "4     True\n",
      "dtype: bool\n",
      "缺失值有：2个\n"
     ]
    }
   ],
   "execution_count": 11
  },
  {
   "metadata": {
    "ExecuteTime": {
     "end_time": "2025-05-10T03:51:25.906934Z",
     "start_time": "2025-05-10T03:51:25.900440Z"
    }
   },
   "cell_type": "code",
   "source": [
    "df = pd.DataFrame(np.arange(12).reshape(3,4),columns=['A','B','C','D'])\n",
    "df.iloc[2,:] = np.nan\n",
    "df[3]=np.nan\n",
    "# df.iloc[2,4]=1\n",
    "print(df)\n",
    "# print(df.isnull().sum())\n",
    "# print(\"############################\")\n",
    "# df.info()\n",
    "# df.dropna(how='any',subset=['A','C'])\n",
    "# df.dropna(how='all')"
   ],
   "id": "3c99d78ca4c1b743",
   "outputs": [
    {
     "name": "stdout",
     "output_type": "stream",
     "text": [
      "     A    B    C    D   3\n",
      "0  0.0  1.0  2.0  3.0 NaN\n",
      "1  4.0  5.0  6.0  7.0 NaN\n",
      "2  NaN  NaN  NaN  NaN NaN\n"
     ]
    }
   ],
   "execution_count": 35
  },
  {
   "metadata": {
    "ExecuteTime": {
     "end_time": "2025-05-10T04:44:45.610467Z",
     "start_time": "2025-05-10T04:44:45.605942Z"
    }
   },
   "cell_type": "code",
   "source": [
    "# df.fillna({'A':1,'B':2,'C':3,'D':4,3:5})\n",
    "# df.fillna(method='ffill')\n",
    "df.replace(4,'四')\n",
    "print(df)"
   ],
   "id": "d902224a2864955f",
   "outputs": [
    {
     "name": "stdout",
     "output_type": "stream",
     "text": [
      "     A    B    C    D   3\n",
      "0  0.0  1.0  2.0  3.0 NaN\n",
      "1    四  5.0  6.0  7.0 NaN\n",
      "2    四  5.0  6.0  7.0 NaN\n"
     ]
    }
   ],
   "execution_count": 50
  }
 ],
 "metadata": {
  "kernelspec": {
   "display_name": "Python 3",
   "language": "python",
   "name": "python3"
  },
  "language_info": {
   "codemirror_mode": {
    "name": "ipython",
    "version": 2
   },
   "file_extension": ".py",
   "mimetype": "text/x-python",
   "name": "python",
   "nbconvert_exporter": "python",
   "pygments_lexer": "ipython2",
   "version": "2.7.6"
  }
 },
 "nbformat": 4,
 "nbformat_minor": 5
}
